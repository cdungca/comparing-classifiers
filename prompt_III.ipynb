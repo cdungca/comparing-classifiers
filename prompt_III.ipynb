{
 "cells": [
  {
   "cell_type": "markdown",
   "metadata": {},
   "source": [
    "# Practical Application III: Comparing Classifiers\n",
    "\n",
    "**Overview**: In this practical application, your goal is to compare the performance of the classifiers we encountered in this section, namely K Nearest Neighbor, Logistic Regression, Decision Trees, and Support Vector Machines.  We will utilize a dataset related to marketing bank products over the telephone.  \n",
    "\n"
   ]
  },
  {
   "cell_type": "markdown",
   "metadata": {},
   "source": [
    "### Getting Started\n",
    "\n",
    "Our dataset comes from the UCI Machine Learning repository [link](https://archive.ics.uci.edu/ml/datasets/bank+marketing).  The data is from a Portugese banking institution and is a collection of the results of multiple marketing campaigns.  We will make use of the article accompanying the dataset [here](CRISP-DM-BANK.pdf) for more information on the data and features.\n",
    "\n"
   ]
  },
  {
   "cell_type": "markdown",
   "metadata": {},
   "source": [
    "### Problem 1: Understanding the Data\n",
    "\n",
    "To gain a better understanding of the data, please read the information provided in the UCI link above, and examine the **Materials and Methods** section of the paper.  How many marketing campaigns does this data represent?"
   ]
  },
  {
   "cell_type": "markdown",
   "metadata": {},
   "source": [
    "There are 17 marketing campaigns collected between May 2008 and November 2010."
   ]
  },
  {
   "cell_type": "markdown",
   "metadata": {},
   "source": [
    "### Problem 2: Read in the Data\n",
    "\n",
    "Use pandas to read in the dataset `bank-additional-full.csv` and assign to a meaningful variable name."
   ]
  },
  {
   "cell_type": "code",
   "execution_count": 146,
   "metadata": {},
   "outputs": [],
   "source": [
    "import warnings\n",
    "import pandas as pd\n",
    "import seaborn as sns\n",
    "import matplotlib.pyplot as plt\n",
    "import time\n",
    "from sklearn.compose import make_column_selector, make_column_transformer\n",
    "from sklearn.preprocessing import OneHotEncoder, StandardScaler, PolynomialFeatures\n",
    "from sklearn.linear_model import LogisticRegression\n",
    "from sklearn.feature_selection import SelectFromModel\n",
    "from sklearn.pipeline import Pipeline\n",
    "from sklearn.model_selection import train_test_split, GridSearchCV\n",
    "from sklearn.metrics import ConfusionMatrixDisplay, RocCurveDisplay\n",
    "from sklearn.metrics import confusion_matrix, roc_curve, auc\n",
    "from sklearn.neighbors import KNeighborsClassifier\n",
    "from sklearn.tree import DecisionTreeClassifier\n",
    "from sklearn.dummy import DummyClassifier\n",
    "from sklearn.svm import SVC"
   ]
  },
  {
   "cell_type": "markdown",
   "metadata": {},
   "source": []
  },
  {
   "cell_type": "code",
   "execution_count": 147,
   "metadata": {},
   "outputs": [],
   "source": [
    "# Load and show data/bank-additional-full.csv\n",
    "df = pd.read_csv('data/bank-additional-full.csv', sep = ';')"
   ]
  },
  {
   "cell_type": "code",
   "execution_count": 148,
   "metadata": {},
   "outputs": [
    {
     "name": "stdout",
     "output_type": "stream",
     "text": [
      "<class 'pandas.core.frame.DataFrame'>\n",
      "RangeIndex: 41188 entries, 0 to 41187\n",
      "Data columns (total 21 columns):\n",
      " #   Column          Non-Null Count  Dtype  \n",
      "---  ------          --------------  -----  \n",
      " 0   age             41188 non-null  int64  \n",
      " 1   job             41188 non-null  object \n",
      " 2   marital         41188 non-null  object \n",
      " 3   education       41188 non-null  object \n",
      " 4   default         41188 non-null  object \n",
      " 5   housing         41188 non-null  object \n",
      " 6   loan            41188 non-null  object \n",
      " 7   contact         41188 non-null  object \n",
      " 8   month           41188 non-null  object \n",
      " 9   day_of_week     41188 non-null  object \n",
      " 10  duration        41188 non-null  int64  \n",
      " 11  campaign        41188 non-null  int64  \n",
      " 12  pdays           41188 non-null  int64  \n",
      " 13  previous        41188 non-null  int64  \n",
      " 14  poutcome        41188 non-null  object \n",
      " 15  emp.var.rate    41188 non-null  float64\n",
      " 16  cons.price.idx  41188 non-null  float64\n",
      " 17  cons.conf.idx   41188 non-null  float64\n",
      " 18  euribor3m       41188 non-null  float64\n",
      " 19  nr.employed     41188 non-null  float64\n",
      " 20  y               41188 non-null  object \n",
      "dtypes: float64(5), int64(5), object(11)\n",
      "memory usage: 6.6+ MB\n"
     ]
    }
   ],
   "source": [
    "df.info()"
   ]
  },
  {
   "cell_type": "code",
   "execution_count": 149,
   "metadata": {},
   "outputs": [
    {
     "data": {
      "text/html": [
       "<div>\n",
       "<style scoped>\n",
       "    .dataframe tbody tr th:only-of-type {\n",
       "        vertical-align: middle;\n",
       "    }\n",
       "\n",
       "    .dataframe tbody tr th {\n",
       "        vertical-align: top;\n",
       "    }\n",
       "\n",
       "    .dataframe thead th {\n",
       "        text-align: right;\n",
       "    }\n",
       "</style>\n",
       "<table border=\"1\" class=\"dataframe\">\n",
       "  <thead>\n",
       "    <tr style=\"text-align: right;\">\n",
       "      <th></th>\n",
       "      <th>age</th>\n",
       "      <th>job</th>\n",
       "      <th>marital</th>\n",
       "      <th>education</th>\n",
       "      <th>default</th>\n",
       "      <th>housing</th>\n",
       "      <th>loan</th>\n",
       "      <th>contact</th>\n",
       "      <th>month</th>\n",
       "      <th>day_of_week</th>\n",
       "      <th>...</th>\n",
       "      <th>campaign</th>\n",
       "      <th>pdays</th>\n",
       "      <th>previous</th>\n",
       "      <th>poutcome</th>\n",
       "      <th>emp.var.rate</th>\n",
       "      <th>cons.price.idx</th>\n",
       "      <th>cons.conf.idx</th>\n",
       "      <th>euribor3m</th>\n",
       "      <th>nr.employed</th>\n",
       "      <th>y</th>\n",
       "    </tr>\n",
       "  </thead>\n",
       "  <tbody>\n",
       "    <tr>\n",
       "      <th>0</th>\n",
       "      <td>56</td>\n",
       "      <td>housemaid</td>\n",
       "      <td>married</td>\n",
       "      <td>basic.4y</td>\n",
       "      <td>no</td>\n",
       "      <td>no</td>\n",
       "      <td>no</td>\n",
       "      <td>telephone</td>\n",
       "      <td>may</td>\n",
       "      <td>mon</td>\n",
       "      <td>...</td>\n",
       "      <td>1</td>\n",
       "      <td>999</td>\n",
       "      <td>0</td>\n",
       "      <td>nonexistent</td>\n",
       "      <td>1.1</td>\n",
       "      <td>93.994</td>\n",
       "      <td>-36.4</td>\n",
       "      <td>4.857</td>\n",
       "      <td>5191.0</td>\n",
       "      <td>no</td>\n",
       "    </tr>\n",
       "    <tr>\n",
       "      <th>1</th>\n",
       "      <td>57</td>\n",
       "      <td>services</td>\n",
       "      <td>married</td>\n",
       "      <td>high.school</td>\n",
       "      <td>unknown</td>\n",
       "      <td>no</td>\n",
       "      <td>no</td>\n",
       "      <td>telephone</td>\n",
       "      <td>may</td>\n",
       "      <td>mon</td>\n",
       "      <td>...</td>\n",
       "      <td>1</td>\n",
       "      <td>999</td>\n",
       "      <td>0</td>\n",
       "      <td>nonexistent</td>\n",
       "      <td>1.1</td>\n",
       "      <td>93.994</td>\n",
       "      <td>-36.4</td>\n",
       "      <td>4.857</td>\n",
       "      <td>5191.0</td>\n",
       "      <td>no</td>\n",
       "    </tr>\n",
       "    <tr>\n",
       "      <th>2</th>\n",
       "      <td>37</td>\n",
       "      <td>services</td>\n",
       "      <td>married</td>\n",
       "      <td>high.school</td>\n",
       "      <td>no</td>\n",
       "      <td>yes</td>\n",
       "      <td>no</td>\n",
       "      <td>telephone</td>\n",
       "      <td>may</td>\n",
       "      <td>mon</td>\n",
       "      <td>...</td>\n",
       "      <td>1</td>\n",
       "      <td>999</td>\n",
       "      <td>0</td>\n",
       "      <td>nonexistent</td>\n",
       "      <td>1.1</td>\n",
       "      <td>93.994</td>\n",
       "      <td>-36.4</td>\n",
       "      <td>4.857</td>\n",
       "      <td>5191.0</td>\n",
       "      <td>no</td>\n",
       "    </tr>\n",
       "    <tr>\n",
       "      <th>3</th>\n",
       "      <td>40</td>\n",
       "      <td>admin.</td>\n",
       "      <td>married</td>\n",
       "      <td>basic.6y</td>\n",
       "      <td>no</td>\n",
       "      <td>no</td>\n",
       "      <td>no</td>\n",
       "      <td>telephone</td>\n",
       "      <td>may</td>\n",
       "      <td>mon</td>\n",
       "      <td>...</td>\n",
       "      <td>1</td>\n",
       "      <td>999</td>\n",
       "      <td>0</td>\n",
       "      <td>nonexistent</td>\n",
       "      <td>1.1</td>\n",
       "      <td>93.994</td>\n",
       "      <td>-36.4</td>\n",
       "      <td>4.857</td>\n",
       "      <td>5191.0</td>\n",
       "      <td>no</td>\n",
       "    </tr>\n",
       "    <tr>\n",
       "      <th>4</th>\n",
       "      <td>56</td>\n",
       "      <td>services</td>\n",
       "      <td>married</td>\n",
       "      <td>high.school</td>\n",
       "      <td>no</td>\n",
       "      <td>no</td>\n",
       "      <td>yes</td>\n",
       "      <td>telephone</td>\n",
       "      <td>may</td>\n",
       "      <td>mon</td>\n",
       "      <td>...</td>\n",
       "      <td>1</td>\n",
       "      <td>999</td>\n",
       "      <td>0</td>\n",
       "      <td>nonexistent</td>\n",
       "      <td>1.1</td>\n",
       "      <td>93.994</td>\n",
       "      <td>-36.4</td>\n",
       "      <td>4.857</td>\n",
       "      <td>5191.0</td>\n",
       "      <td>no</td>\n",
       "    </tr>\n",
       "  </tbody>\n",
       "</table>\n",
       "<p>5 rows × 21 columns</p>\n",
       "</div>"
      ],
      "text/plain": [
       "   age        job  marital    education  default housing loan    contact  \\\n",
       "0   56  housemaid  married     basic.4y       no      no   no  telephone   \n",
       "1   57   services  married  high.school  unknown      no   no  telephone   \n",
       "2   37   services  married  high.school       no     yes   no  telephone   \n",
       "3   40     admin.  married     basic.6y       no      no   no  telephone   \n",
       "4   56   services  married  high.school       no      no  yes  telephone   \n",
       "\n",
       "  month day_of_week  ...  campaign  pdays  previous     poutcome emp.var.rate  \\\n",
       "0   may         mon  ...         1    999         0  nonexistent          1.1   \n",
       "1   may         mon  ...         1    999         0  nonexistent          1.1   \n",
       "2   may         mon  ...         1    999         0  nonexistent          1.1   \n",
       "3   may         mon  ...         1    999         0  nonexistent          1.1   \n",
       "4   may         mon  ...         1    999         0  nonexistent          1.1   \n",
       "\n",
       "   cons.price.idx  cons.conf.idx  euribor3m  nr.employed   y  \n",
       "0          93.994          -36.4      4.857       5191.0  no  \n",
       "1          93.994          -36.4      4.857       5191.0  no  \n",
       "2          93.994          -36.4      4.857       5191.0  no  \n",
       "3          93.994          -36.4      4.857       5191.0  no  \n",
       "4          93.994          -36.4      4.857       5191.0  no  \n",
       "\n",
       "[5 rows x 21 columns]"
      ]
     },
     "execution_count": 149,
     "metadata": {},
     "output_type": "execute_result"
    }
   ],
   "source": [
    "df.head()"
   ]
  },
  {
   "cell_type": "markdown",
   "metadata": {},
   "source": [
    "### Problem 3: Understanding the Features\n",
    "\n",
    "\n",
    "Examine the data description below, and determine if any of the features are missing values or need to be coerced to a different data type.\n",
    "\n",
    "\n",
    "```\n",
    "Input variables:\n",
    "# bank client data:\n",
    "1 - age (numeric)\n",
    "2 - job : type of job (categorical: 'admin.','blue-collar','entrepreneur','housemaid','management','retired','self-employed','services','student','technician','unemployed','unknown')\n",
    "3 - marital : marital status (categorical: 'divorced','married','single','unknown'; note: 'divorced' means divorced or widowed)\n",
    "4 - education (categorical: 'basic.4y','basic.6y','basic.9y','high.school','illiterate','professional.course','university.degree','unknown')\n",
    "5 - default: has credit in default? (categorical: 'no','yes','unknown')\n",
    "6 - housing: has housing loan? (categorical: 'no','yes','unknown')\n",
    "7 - loan: has personal loan? (categorical: 'no','yes','unknown')\n",
    "# related with the last contact of the current campaign:\n",
    "8 - contact: contact communication type (categorical: 'cellular','telephone')\n",
    "9 - month: last contact month of year (categorical: 'jan', 'feb', 'mar', ..., 'nov', 'dec')\n",
    "10 - day_of_week: last contact day of the week (categorical: 'mon','tue','wed','thu','fri')\n",
    "11 - duration: last contact duration, in seconds (numeric). Important note: this attribute highly affects the output target (e.g., if duration=0 then y='no'). Yet, the duration is not known before a call is performed. Also, after the end of the call y is obviously known. Thus, this input should only be included for benchmark purposes and should be discarded if the intention is to have a realistic predictive model.\n",
    "# other attributes:\n",
    "12 - campaign: number of contacts performed during this campaign and for this client (numeric, includes last contact)\n",
    "13 - pdays: number of days that passed by after the client was last contacted from a previous campaign (numeric; 999 means client was not previously contacted)\n",
    "14 - previous: number of contacts performed before this campaign and for this client (numeric)\n",
    "15 - poutcome: outcome of the previous marketing campaign (categorical: 'failure','nonexistent','success')\n",
    "# social and economic context attributes\n",
    "16 - emp.var.rate: employment variation rate - quarterly indicator (numeric)\n",
    "17 - cons.price.idx: consumer price index - monthly indicator (numeric)\n",
    "18 - cons.conf.idx: consumer confidence index - monthly indicator (numeric)\n",
    "19 - euribor3m: euribor 3 month rate - daily indicator (numeric)\n",
    "20 - nr.employed: number of employees - quarterly indicator (numeric)\n",
    "\n",
    "Output variable (desired target):\n",
    "21 - y - has the client subscribed a term deposit? (binary: 'yes','no')\n",
    "```\n",
    "\n"
   ]
  },
  {
   "cell_type": "markdown",
   "metadata": {},
   "source": [
    "#### Data Cleaning / Pre-processing\n",
    "\n",
    "1. Remove duration since it will not help in the predictive model. Also, the duration is not known before a call so can't be used for the prediction.\n",
    "2. Convert following fields to numeric using one hot:\n",
    "job, marital, education, default, housing, loan, contact, month, day_of_week, poutcome\n",
    "3. Instead of using 999 in pdays for client not previously contacted, change it to 0 instead.\n",
    "4. Normalize numeric fields:\n",
    "age, duration, campaign, pdays, previous, emp.var.rate, cons.price.idx, cons.conf.idx, euribor3m, nr.employed"
   ]
  },
  {
   "cell_type": "code",
   "execution_count": 150,
   "metadata": {},
   "outputs": [],
   "source": [
    "# Drop duration column and assign it to df\n",
    "df = df.drop(columns = 'duration')\n",
    "\n",
    "# Convert 999 in pdays to 0\n",
    "df['pdays'] = df['pdays'].replace(999, 0)\n"
   ]
  },
  {
   "cell_type": "markdown",
   "metadata": {},
   "source": [
    "### Problem 4: Understanding the Task\n",
    "\n",
    "After examining the description and data, your goal now is to clearly state the *Business Objective* of the task.  State the objective below."
   ]
  },
  {
   "cell_type": "markdown",
   "metadata": {},
   "source": [
    "Business Objective: Identify the best classification model that will accurately predict the conditions/features of a successful marketing campaign. What are the client, marketing campaign, and socio economic features that will provide the best chance of making the client sign up after the campaign."
   ]
  },
  {
   "cell_type": "code",
   "execution_count": 151,
   "metadata": {},
   "outputs": [
    {
     "data": {
      "text/plain": [
       "age               0\n",
       "job               0\n",
       "marital           0\n",
       "education         0\n",
       "default           0\n",
       "housing           0\n",
       "loan              0\n",
       "contact           0\n",
       "month             0\n",
       "day_of_week       0\n",
       "campaign          0\n",
       "pdays             0\n",
       "previous          0\n",
       "poutcome          0\n",
       "emp.var.rate      0\n",
       "cons.price.idx    0\n",
       "cons.conf.idx     0\n",
       "euribor3m         0\n",
       "nr.employed       0\n",
       "y                 0\n",
       "dtype: int64"
      ]
     },
     "execution_count": 151,
     "metadata": {},
     "output_type": "execute_result"
    }
   ],
   "source": [
    "# check for NaN values    \n",
    "df.isnull().sum()"
   ]
  },
  {
   "cell_type": "code",
   "execution_count": 152,
   "metadata": {},
   "outputs": [],
   "source": [
    "# Set color scheme for seaborn\n",
    "sns.set_palette(\"bright\")"
   ]
  },
  {
   "cell_type": "markdown",
   "metadata": {},
   "source": [
    "##### Bank Client Data Analysis"
   ]
  },
  {
   "cell_type": "code",
   "execution_count": 153,
   "metadata": {},
   "outputs": [
    {
     "data": {
      "text/plain": [
       "<seaborn.axisgrid.FacetGrid at 0x233ad9d60c0>"
      ]
     },
     "execution_count": 153,
     "metadata": {},
     "output_type": "execute_result"
    },
    {
     "data": {
      "image/png": "[encoded data removed]",
      "text/plain": [
       "<Figure size 573.875x500 with 1 Axes>"
      ]
     },
     "metadata": {},
     "output_type": "display_data"
    }
   ],
   "source": [
    "sns.catplot(data=df, x=\"housing\", y=\"age\", hue=\"y\", kind=\"box\")\n",
    "# increase spacing in x axis\n",
    "#plt.xticks(rotation=45, ha='right')\n"
   ]
  },
  {
   "cell_type": "code",
   "execution_count": 154,
   "metadata": {},
   "outputs": [
    {
     "data": {
      "text/plain": [
       "<seaborn.axisgrid.FacetGrid at 0x233ad987260>"
      ]
     },
     "execution_count": 154,
     "metadata": {},
     "output_type": "execute_result"
    },
    {
     "data": {
      "image/png": "[encoded data removed]",
      "text/plain": [
       "<Figure size 573.875x500 with 1 Axes>"
      ]
     },
     "metadata": {},
     "output_type": "display_data"
    }
   ],
   "source": [
    "sns.displot(df, x=\"housing\", hue=\"y\", bins = 5, element=\"step\")"
   ]
  },
  {
   "cell_type": "code",
   "execution_count": 155,
   "metadata": {},
   "outputs": [
    {
     "data": {
      "text/plain": [
       "<seaborn.axisgrid.FacetGrid at 0x233b9f09190>"
      ]
     },
     "execution_count": 155,
     "metadata": {},
     "output_type": "execute_result"
    },
    {
     "data": {
      "image/png": "[encoded data removed]",
      "text/plain": [
       "<Figure size 573.875x500 with 1 Axes>"
      ]
     },
     "metadata": {},
     "output_type": "display_data"
    }
   ],
   "source": [
    "sns.displot(df, x=\"campaign\", hue=\"y\", bins = 5, element=\"step\")"
   ]
  },
  {
   "cell_type": "code",
   "execution_count": 156,
   "metadata": {},
   "outputs": [
    {
     "data": {
      "text/plain": [
       "<seaborn.axisgrid.FacetGrid at 0x233b8620560>"
      ]
     },
     "execution_count": 156,
     "metadata": {},
     "output_type": "execute_result"
    },
    {
     "data": {
      "image/png": "[encoded data removed]",
      "text/plain": [
       "<Figure size 573.875x500 with 1 Axes>"
      ]
     },
     "metadata": {},
     "output_type": "display_data"
    }
   ],
   "source": [
    "# distribution of age\n",
    "sns.displot(df, x=\"age\", hue=\"y\", kind=\"kde\")"
   ]
  },
  {
   "cell_type": "code",
   "execution_count": 157,
   "metadata": {},
   "outputs": [
    {
     "data": {
      "text/plain": [
       "<seaborn.axisgrid.FacetGrid at 0x233b3ef50d0>"
      ]
     },
     "execution_count": 157,
     "metadata": {},
     "output_type": "execute_result"
    },
    {
     "data": {
      "image/png": "[encoded data removed]",
      "text/plain": [
       "<Figure size 573.875x500 with 1 Axes>"
      ]
     },
     "metadata": {},
     "output_type": "display_data"
    }
   ],
   "source": [
    "# distribution of marital\n",
    "sns.displot(df, x=\"marital\", hue=\"y\", bins = 20, element=\"step\")"
   ]
  },
  {
   "cell_type": "code",
   "execution_count": 158,
   "metadata": {},
   "outputs": [
    {
     "data": {
      "text/plain": [
       "<seaborn.axisgrid.FacetGrid at 0x233b9f09130>"
      ]
     },
     "execution_count": 158,
     "metadata": {},
     "output_type": "execute_result"
    },
    {
     "data": {
      "image/png": "[encoded data removed]",
      "text/plain": [
       "<Figure size 573.875x500 with 1 Axes>"
      ]
     },
     "metadata": {},
     "output_type": "display_data"
    }
   ],
   "source": [
    "#sns.displot(df, x=\"default\", hue=\"y\", bins = 20)\n",
    "\n",
    "sns.displot(df, x=\"default\", hue=\"y\", bins = 20, element=\"step\")"
   ]
  },
  {
   "cell_type": "code",
   "execution_count": 159,
   "metadata": {},
   "outputs": [
    {
     "data": {
      "text/plain": [
       "<seaborn.axisgrid.FacetGrid at 0x233b27ee3f0>"
      ]
     },
     "execution_count": 159,
     "metadata": {},
     "output_type": "execute_result"
    },
    {
     "data": {
      "image/png": "[encoded data removed]",
      "text/plain": [
       "<Figure size 573.875x500 with 1 Axes>"
      ]
     },
     "metadata": {},
     "output_type": "display_data"
    }
   ],
   "source": [
    "sns.displot(df, x=\"loan\", hue=\"y\", bins = 20, element=\"step\")\n"
   ]
  },
  {
   "cell_type": "code",
   "execution_count": 160,
   "metadata": {},
   "outputs": [
    {
     "name": "stdout",
     "output_type": "stream",
     "text": [
      "job\n",
      "admin.           10422\n",
      "blue-collar       9254\n",
      "technician        6743\n",
      "services          3969\n",
      "management        2924\n",
      "retired           1720\n",
      "entrepreneur      1456\n",
      "self-employed     1421\n",
      "housemaid         1060\n",
      "unemployed        1014\n",
      "student            875\n",
      "unknown            330\n",
      "Name: count, dtype: int64\n",
      "marital\n",
      "married     24928\n",
      "single      11568\n",
      "divorced     4612\n",
      "unknown        80\n",
      "Name: count, dtype: int64\n",
      "education\n",
      "university.degree      12168\n",
      "high.school             9515\n",
      "basic.9y                6045\n",
      "professional.course     5243\n",
      "basic.4y                4176\n",
      "basic.6y                2292\n",
      "unknown                 1731\n",
      "illiterate                18\n",
      "Name: count, dtype: int64\n",
      "default\n",
      "no         32588\n",
      "unknown     8597\n",
      "yes            3\n",
      "Name: count, dtype: int64\n",
      "housing\n",
      "yes        21576\n",
      "no         18622\n",
      "unknown      990\n",
      "Name: count, dtype: int64\n",
      "loan\n",
      "no         33950\n",
      "yes         6248\n",
      "unknown      990\n",
      "Name: count, dtype: int64\n",
      "contact\n",
      "cellular     26144\n",
      "telephone    15044\n",
      "Name: count, dtype: int64\n",
      "month\n",
      "may    13769\n",
      "jul     7174\n",
      "aug     6178\n",
      "jun     5318\n",
      "nov     4101\n",
      "apr     2632\n",
      "oct      718\n",
      "sep      570\n",
      "mar      546\n",
      "dec      182\n",
      "Name: count, dtype: int64\n",
      "day_of_week\n",
      "thu    8623\n",
      "mon    8514\n",
      "wed    8134\n",
      "tue    8090\n",
      "fri    7827\n",
      "Name: count, dtype: int64\n",
      "poutcome\n",
      "nonexistent    35563\n",
      "failure         4252\n",
      "success         1373\n",
      "Name: count, dtype: int64\n",
      "y\n",
      "no     36548\n",
      "yes     4640\n",
      "Name: count, dtype: int64\n"
     ]
    }
   ],
   "source": [
    "# check value_counts for non numeric columns\n",
    "non_numeric_columns = df.select_dtypes(exclude=['int64', 'float64']).columns\n",
    "for column in non_numeric_columns:\n",
    "    print(df[column].value_counts())"
   ]
  },
  {
   "cell_type": "markdown",
   "metadata": {},
   "source": [
    "##### Previous Contact Analysis"
   ]
  },
  {
   "cell_type": "code",
   "execution_count": 161,
   "metadata": {},
   "outputs": [
    {
     "data": {
      "text/plain": [
       "<seaborn.axisgrid.FacetGrid at 0x233ba31f770>"
      ]
     },
     "execution_count": 161,
     "metadata": {},
     "output_type": "execute_result"
    },
    {
     "data": {
      "image/png": "[encoded data removed]",
      "text/plain": [
       "<Figure size 573.875x500 with 1 Axes>"
      ]
     },
     "metadata": {},
     "output_type": "display_data"
    }
   ],
   "source": [
    "sns.relplot(data=df, x=\"previous\", y=\"pdays\", hue=\"y\", kind=\"scatter\")"
   ]
  },
  {
   "cell_type": "code",
   "execution_count": 162,
   "metadata": {},
   "outputs": [
    {
     "data": {
      "text/plain": [
       "<seaborn.axisgrid.FacetGrid at 0x233b9f844d0>"
      ]
     },
     "execution_count": 162,
     "metadata": {},
     "output_type": "execute_result"
    },
    {
     "data": {
      "image/png": "[encoded data removed]",
      "text/plain": [
       "<Figure size 573.875x500 with 1 Axes>"
      ]
     },
     "metadata": {},
     "output_type": "display_data"
    }
   ],
   "source": [
    "sns.displot(df, x=\"pdays\", hue=\"y\", bins = 20, element=\"step\")"
   ]
  },
  {
   "cell_type": "code",
   "execution_count": 163,
   "metadata": {},
   "outputs": [
    {
     "data": {
      "text/plain": [
       "<seaborn.axisgrid.FacetGrid at 0x233926facf0>"
      ]
     },
     "execution_count": 163,
     "metadata": {},
     "output_type": "execute_result"
    },
    {
     "data": {
      "image/png": "[encoded data removed]",
      "text/plain": [
       "<Figure size 573.875x500 with 1 Axes>"
      ]
     },
     "metadata": {},
     "output_type": "display_data"
    }
   ],
   "source": [
    "sns.displot(df, x=\"poutcome\", hue=\"y\", bins = 20, element=\"step\")\n"
   ]
  },
  {
   "cell_type": "code",
   "execution_count": 164,
   "metadata": {},
   "outputs": [
    {
     "data": {
      "text/plain": [
       "<seaborn.axisgrid.FacetGrid at 0x23382ac2930>"
      ]
     },
     "execution_count": 164,
     "metadata": {},
     "output_type": "execute_result"
    },
    {
     "data": {
      "image/png": "[encoded data removed]",
      "text/plain": [
       "<Figure size 573.875x500 with 1 Axes>"
      ]
     },
     "metadata": {},
     "output_type": "display_data"
    }
   ],
   "source": [
    "sns.displot(df, x=\"contact\", hue=\"y\", bins = 20, element=\"step\")\n"
   ]
  },
  {
   "cell_type": "markdown",
   "metadata": {},
   "source": [
    "### Problem 5: Engineering Features\n",
    "\n",
    "Now that you understand your business objective, we will build a basic model to get started.  Before we can do this, we must work to encode the data.  Using just the bank information features, prepare the features and target column for modeling with appropriate encoding and transformations."
   ]
  },
  {
   "cell_type": "code",
   "execution_count": 165,
   "metadata": {},
   "outputs": [],
   "source": [
    "# Use make_column_selector to select non-numeric columns\n",
    "selector = ''\n",
    "\n",
    "selector = make_column_selector(dtype_include=object)"
   ]
  },
  {
   "cell_type": "code",
   "execution_count": 166,
   "metadata": {},
   "outputs": [],
   "source": [
    "# Using make_column_transformer to apply OneHotEncoder to non-numeric columns and StandardScaler to numeric columns\n",
    "transformer = ''\n",
    "\n",
    "transformer = make_column_transformer((OneHotEncoder(drop = 'first'), selector),\n",
    "                                     remainder = StandardScaler())"
   ]
  },
  {
   "cell_type": "code",
   "execution_count": 167,
   "metadata": {},
   "outputs": [],
   "source": [
    "# Feature extraction\n",
    "extractor = ''\n",
    "\n",
    "extractor = SelectFromModel(LogisticRegression(penalty='l1', solver = 'liblinear' ,random_state = 42))"
   ]
  },
  {
   "cell_type": "code",
   "execution_count": 168,
   "metadata": {},
   "outputs": [],
   "source": [
    "# Pipeline\n",
    "lgr_pipe = ''\n",
    "lgr_pipe_trainscore = ''\n",
    "lgr_pipe_testscore = ''\n",
    "\n",
    "lgr_pipe = Pipeline([('transformer', transformer),\n",
    "                    ('selector', extractor),\n",
    "                    ('lgr', LogisticRegression())], verbose=True)"
   ]
  },
  {
   "cell_type": "markdown",
   "metadata": {},
   "source": [
    "### Problem 6: Train/Test Split\n",
    "\n",
    "With your data prepared, split it into a train and test set."
   ]
  },
  {
   "cell_type": "code",
   "execution_count": 169,
   "metadata": {},
   "outputs": [],
   "source": [
    "X_train, X_test, y_train, y_test = train_test_split(df.drop(['y'], axis = 1), df['y'], random_state = 442,\n",
    "                                                   stratify = df['y'])"
   ]
  },
  {
   "cell_type": "markdown",
   "metadata": {},
   "source": [
    "### Problem 7: A Baseline Model\n",
    "\n",
    "Before we build our first model, we want to establish a baseline.  What is the baseline performance that our classifier should aim to beat?"
   ]
  },
  {
   "cell_type": "markdown",
   "metadata": {},
   "source": [
    "Based on the material, the positive response for a mass marketing campaign is less than 1%."
   ]
  },
  {
   "cell_type": "code",
   "execution_count": 170,
   "metadata": {},
   "outputs": [
    {
     "name": "stdout",
     "output_type": "stream",
     "text": [
      "Baseline Score ==> 0.8873458288821987\n"
     ]
    }
   ],
   "source": [
    "# use DummyClassifier to get the baseline score\n",
    "\n",
    "dummy_clf = ''\n",
    "baseline_score = ''\n",
    "\n",
    "dummy_clf = DummyClassifier().fit(X_train, y_train)\n",
    "baseline_score = dummy_clf.score(X_test, y_test)\n",
    "\n",
    "print('Baseline Score ==> ' + str(baseline_score))\n"
   ]
  },
  {
   "cell_type": "markdown",
   "metadata": {},
   "source": [
    "### Problem 8: A Simple Model\n",
    "\n",
    "Use Logistic Regression to build a basic model on your data.  "
   ]
  },
  {
   "cell_type": "code",
   "execution_count": 171,
   "metadata": {},
   "outputs": [
    {
     "name": "stdout",
     "output_type": "stream",
     "text": [
      "[Pipeline] ....... (step 1 of 3) Processing transformer, total=   0.1s\n",
      "[Pipeline] .......... (step 2 of 3) Processing selector, total=   0.9s\n",
      "[Pipeline] ............... (step 3 of 3) Processing lgr, total=   0.1s\n",
      "LGR Train Time (sec) ==> 1.163679838180542\n"
     ]
    }
   ],
   "source": [
    "# Using Logistic Regression with default parameters\n",
    "start_time = time.time()\n",
    "lgr_pipe.fit(X_train, y_train)\n",
    "lgr_time = time.time() - start_time\n",
    "\n",
    "print('LGR Train Time (sec) ==> ' + str(lgr_time))\n"
   ]
  },
  {
   "cell_type": "markdown",
   "metadata": {},
   "source": [
    "### Problem 9: Score the Model\n",
    "\n",
    "What is the accuracy of your model?"
   ]
  },
  {
   "cell_type": "code",
   "execution_count": 172,
   "metadata": {},
   "outputs": [
    {
     "name": "stdout",
     "output_type": "stream",
     "text": [
      "LGR Train Score ==> 0.9002298404065909\n",
      "LGR Test Score ==> 0.8964747013693308\n"
     ]
    }
   ],
   "source": [
    "# LGR train score\n",
    "lgr_pipe_trainscore = lgr_pipe.score(X_train, y_train)\n",
    "\n",
    "print('LGR Train Score ==> ' + str(lgr_pipe_trainscore))\n",
    "\n",
    "# LGR test score\n",
    "lgr_pipe_testscore = lgr_pipe.score(X_test, y_test)\n",
    "\n",
    "print('LGR Test Score ==> ' + str(lgr_pipe_testscore))"
   ]
  },
  {
   "cell_type": "markdown",
   "metadata": {},
   "source": [
    "### Problem 10: Model Comparisons\n",
    "\n",
    "Now, we aim to compare the performance of the Logistic Regression model to our KNN algorithm, Decision Tree, and SVM models.  Using the default settings for each of the models, fit and score each.  Also, be sure to compare the fit time of each of the models.  Present your findings in a `DataFrame` similar to that below:\n",
    "\n",
    "| Model | Train Time | Train Accuracy | Test Accuracy |\n",
    "| ----- | ---------- | -------------  | -----------   |\n",
    "|     |    |.     |.     |"
   ]
  },
  {
   "cell_type": "code",
   "execution_count": 173,
   "metadata": {},
   "outputs": [
    {
     "name": "stdout",
     "output_type": "stream",
     "text": [
      "[Pipeline] ......... (step 1 of 3) Processing transform, total=   0.1s\n",
      "[Pipeline] .......... (step 2 of 3) Processing selector, total=   0.9s\n",
      "[Pipeline] ............... (step 3 of 3) Processing knn, total=   0.0s\n",
      "KNN Train Time (sec) ==> 1.0557951927185059\n",
      "KNN Train Score ==> 0.9140526366902981\n",
      "KNN Test Score ==> 0.8870544818879286\n"
     ]
    }
   ],
   "source": [
    "# Using KNN with default parameters\n",
    "knnpipe = ''\n",
    "knnpipe_trainscore = ''\n",
    "knnpipe_testscore = ''\n",
    "\n",
    "knnpipe = Pipeline([('transform', transformer),\n",
    "                    ('selector', extractor),\n",
    "                    ('knn', KNeighborsClassifier())], verbose=True)\n",
    "\n",
    "start_time = time.time()\n",
    "knnpipe.fit(X_train, y_train)\n",
    "knn_time = time.time() - start_time\n",
    "\n",
    "print('KNN Train Time (sec) ==> ' + str(knn_time))\n",
    "\n",
    "knnpipe_trainscore = knnpipe.score(X_train, y_train)\n",
    "print('KNN Train Score ==> ' + str(knnpipe_trainscore))\n",
    "\n",
    "knnpipe_testscore = knnpipe.score(X_test, y_test)\n",
    "print('KNN Test Score ==> ' + str(knnpipe_testscore))"
   ]
  },
  {
   "cell_type": "code",
   "execution_count": 174,
   "metadata": {},
   "outputs": [
    {
     "name": "stdout",
     "output_type": "stream",
     "text": [
      "[Pipeline] ......... (step 1 of 3) Processing transform, total=   0.1s\n",
      "[Pipeline] .......... (step 2 of 3) Processing selector, total=   1.2s\n",
      "[Pipeline] ............. (step 3 of 3) Processing dtree, total=   1.1s\n",
      "Decision Tree Train Time (sec) ==> 2.4682297706604004\n",
      "Decision Tree Train Score ==> 0.995047101097407\n",
      "Decision Tree Test Score ==> 0.8418956977760512\n"
     ]
    }
   ],
   "source": [
    "# Using Decision Tree with default parameters\n",
    "dtreepipe = ''\n",
    "dtree_trainscore = ''\n",
    "dtree_testscore = ''\n",
    "\n",
    "dtreepipe = Pipeline([('transform', transformer),\n",
    "                    ('selector', extractor),\n",
    "                    ('dtree', DecisionTreeClassifier())], verbose=True)\n",
    "start_time = time.time()\n",
    "dtreepipe.fit(X_train, y_train)\n",
    "dtree_time = time.time() - start_time\n",
    "\n",
    "print('Decision Tree Train Time (sec) ==> ' + str(dtree_time))\n",
    "\n",
    "dtree_trainscore = dtreepipe.score(X_train, y_train)\n",
    "print('Decision Tree Train Score ==> ' + str(dtree_trainscore))\n",
    "\n",
    "dtree_testscore = dtreepipe.score(X_test, y_test)\n",
    "print('Decision Tree Test Score ==> ' + str(dtree_testscore))"
   ]
  },
  {
   "cell_type": "code",
   "execution_count": 175,
   "metadata": {},
   "outputs": [
    {
     "name": "stdout",
     "output_type": "stream",
     "text": [
      "[Pipeline] ......... (step 1 of 3) Processing transform, total=   0.1s\n",
      "[Pipeline] .......... (step 2 of 3) Processing selector, total=   1.1s\n",
      "[Pipeline] ............... (step 3 of 3) Processing svc, total= 1.3min\n",
      "SVM Train Time ==> 79.36343693733215\n",
      "SVM Train Score ==> 0.9060567802919944\n",
      "SVM Test Score ==> 0.9008449062833835\n"
     ]
    }
   ],
   "source": [
    "# Using SVM with default parameters\n",
    "svcpipe = ''\n",
    "svc_trainscore = ''\n",
    "svc_testscore = ''\n",
    "\n",
    "svcpipe = Pipeline([('transform', transformer),\n",
    "                    ('selector', extractor),\n",
    "                    ('svc', SVC())], verbose=True)\n",
    "start_time = time.time()\n",
    "svcpipe.fit(X_train, y_train)\n",
    "svc_time = time.time() - start_time\n",
    "\n",
    "print('SVM Train Time ==> ' + str(svc_time))\n",
    "\n",
    "svc_trainscore = svcpipe.score(X_train, y_train)\n",
    "print('SVM Train Score ==> ' + str(svc_trainscore))\n",
    "\n",
    "svc_testscore = svcpipe.score(X_test, y_test)\n",
    "print('SVM Test Score ==> ' + str(svc_testscore))"
   ]
  },
  {
   "cell_type": "code",
   "execution_count": 176,
   "metadata": {},
   "outputs": [
    {
     "data": {
      "text/html": [
       "<div>\n",
       "<style scoped>\n",
       "    .dataframe tbody tr th:only-of-type {\n",
       "        vertical-align: middle;\n",
       "    }\n",
       "\n",
       "    .dataframe tbody tr th {\n",
       "        vertical-align: top;\n",
       "    }\n",
       "\n",
       "    .dataframe thead th {\n",
       "        text-align: right;\n",
       "    }\n",
       "</style>\n",
       "<table border=\"1\" class=\"dataframe\">\n",
       "  <thead>\n",
       "    <tr style=\"text-align: right;\">\n",
       "      <th></th>\n",
       "      <th>train score</th>\n",
       "      <th>test score</th>\n",
       "      <th>average fit time (sec)</th>\n",
       "    </tr>\n",
       "    <tr>\n",
       "      <th>model</th>\n",
       "      <th></th>\n",
       "      <th></th>\n",
       "      <th></th>\n",
       "    </tr>\n",
       "  </thead>\n",
       "  <tbody>\n",
       "    <tr>\n",
       "      <th>Logistic Regression</th>\n",
       "      <td>0.900230</td>\n",
       "      <td>0.896475</td>\n",
       "      <td>1.163680</td>\n",
       "    </tr>\n",
       "    <tr>\n",
       "      <th>KNN</th>\n",
       "      <td>0.914053</td>\n",
       "      <td>0.887054</td>\n",
       "      <td>1.055795</td>\n",
       "    </tr>\n",
       "    <tr>\n",
       "      <th>Decision Tree</th>\n",
       "      <td>0.995047</td>\n",
       "      <td>0.841896</td>\n",
       "      <td>2.468230</td>\n",
       "    </tr>\n",
       "    <tr>\n",
       "      <th>SVM</th>\n",
       "      <td>0.906057</td>\n",
       "      <td>0.900845</td>\n",
       "      <td>79.363437</td>\n",
       "    </tr>\n",
       "  </tbody>\n",
       "</table>\n",
       "</div>"
      ],
      "text/plain": [
       "                     train score  test score  average fit time (sec)\n",
       "model                                                               \n",
       "Logistic Regression     0.900230    0.896475                1.163680\n",
       "KNN                     0.914053    0.887054                1.055795\n",
       "Decision Tree           0.995047    0.841896                2.468230\n",
       "SVM                     0.906057    0.900845               79.363437"
      ]
     },
     "execution_count": 176,
     "metadata": {},
     "output_type": "execute_result"
    }
   ],
   "source": [
    "#Create df to compare performance of different models\n",
    "results_df = ''\n",
    "\n",
    "res_dict = {'model': ['Logistic Regression', 'KNN', 'Decision Tree', 'SVM'],\n",
    "           'train score': [lgr_pipe_trainscore, knnpipe_trainscore, dtree_trainscore, svc_trainscore],\n",
    "           'test score': [lgr_pipe_testscore, knnpipe_testscore, dtree_testscore, svc_testscore],\n",
    "           'average fit time (sec)': [lgr_time, knn_time, dtree_time, svc_time]}\n",
    "results_df = pd.DataFrame(res_dict).set_index('model')\n",
    "\n",
    "results_df"
   ]
  },
  {
   "cell_type": "markdown",
   "metadata": {},
   "source": [
    "### Problem 11: Improving the Model\n",
    "\n",
    "Now that we have some basic models on the board, we want to try to improve these.  Below, we list a few things to explore in this pursuit.\n",
    "\n",
    "- More feature engineering and exploration.  For example, should we keep the gender feature?  Why or why not?\n",
    "- Hyperparameter tuning and grid search.  All of our models have additional hyperparameters to tune and explore.  For example the number of neighbors in KNN or the maximum depth of a Decision Tree.  \n",
    "- Adjust your performance metric"
   ]
  },
  {
   "cell_type": "markdown",
   "metadata": {},
   "source": [
    "There's no gender feature in the data set."
   ]
  },
  {
   "cell_type": "code",
   "execution_count": 177,
   "metadata": {},
   "outputs": [
    {
     "name": "stdout",
     "output_type": "stream",
     "text": [
      "Best n_neighbors ==> 3\n",
      "Best weights ==> uniform\n"
     ]
    }
   ],
   "source": [
    "# Tune KNN\n",
    "warnings.filterwarnings('ignore')\n",
    "knnpipe_grid = ''\n",
    "knn_grid = ''\n",
    "knn_best_n_neighbors = ''\n",
    "knn_best_weights = ''\n",
    "\n",
    "knnpipe_grid = Pipeline([('transform', transformer),\n",
    "                    ('selector', extractor),\n",
    "                    ('knn', KNeighborsClassifier())])\n",
    "params = {'knn__n_neighbors': list(range(3, 10, 2)),\n",
    "          'knn__weights': ['uniform', 'distance']}\n",
    "knn_grid = GridSearchCV(knnpipe_grid, param_grid=params)\n",
    "knn_grid.fit(X_train, y_train)\n",
    "\n",
    "# best parameters for KNN\n",
    "knn_best_n_neighbors = knn_grid.best_params_['knn__n_neighbors']\n",
    "knn_best_weights = knn_grid.best_params_['knn__weights']\n",
    "\n",
    "print('Best n_neighbors ==> ' + str(knn_best_n_neighbors))\n",
    "print('Best weights ==> ' + str(knn_best_weights))\n",
    "\n"
   ]
  },
  {
   "cell_type": "code",
   "execution_count": 178,
   "metadata": {},
   "outputs": [
    {
     "name": "stdout",
     "output_type": "stream",
     "text": [
      "LGR Best C ==> 0.01\n",
      "LGR Best Solver ==> liblinear\n"
     ]
    }
   ],
   "source": [
    "# Tune Logistic Regression\n",
    "lgrpipe_grid = ''\n",
    "lgr_grid = ''\n",
    "lgr_best_c = ''\n",
    "lgr_best_solver = ''\n",
    "\n",
    "lgrpipe_grid = Pipeline([('transform', transformer),\n",
    "                    ('selector', extractor),\n",
    "                    ('lgr', LogisticRegression())])\n",
    "params = {'lgr__C': [0.01, 0.1, 1, 10, 100],\n",
    "          'lgr__solver': ['liblinear', 'lbfgs', 'sag', 'saga']}\n",
    "lgr_grid = GridSearchCV(lgrpipe_grid, param_grid=params)\n",
    "lgr_grid.fit(X_train, y_train)\n",
    "\n",
    "# best parameters\n",
    "lgr_best_c = lgr_grid.best_params_[\"lgr__C\"]\n",
    "lgr_best_solver = lgr_grid.best_params_[\"lgr__solver\"]\n",
    "\n",
    "print('LGR Best C ==> ' + str(lgr_best_c))\n",
    "print('LGR Best Solver ==> ' + str(lgr_best_solver))\n",
    "\n"
   ]
  },
  {
   "cell_type": "code",
   "execution_count": 179,
   "metadata": {},
   "outputs": [
    {
     "name": "stdout",
     "output_type": "stream",
     "text": [
      "Decision Tree Best Max Depth ==> 1\n",
      "Decision Tree Best Min Samples Leaf ==> 2\n",
      "Decision Tree Best Criterion ==> gini\n"
     ]
    }
   ],
   "source": [
    "# Tune Decision Tree\n",
    "dtreepipe_grid = ''\n",
    "dtree_grid = ''\n",
    "dtree_best_max_depth = ''\n",
    "dtree_best_min_samples_leaf = ''\n",
    "dtree_best_criterion = ''\n",
    "\n",
    "dtreepipe_grid = Pipeline([('transform', transformer),\n",
    "                    ('selector', extractor),\n",
    "                    ('dtree', DecisionTreeClassifier())])\n",
    "params = {'dtree__max_depth': list(range(1, 10)),\n",
    "          'dtree__min_samples_leaf': list(range(2, 5)),\n",
    "          'dtree__criterion': ['gini', 'entropy']}\n",
    "dtree_grid = GridSearchCV(dtreepipe_grid, param_grid=params)\n",
    "dtree_grid.fit(X_train, y_train)\n",
    "\n",
    "# best parameters\n",
    "dtree_best_max_depth = dtree_grid.best_params_[\"dtree__max_depth\"]\n",
    "dtree_best_min_samples_leaf = dtree_grid.best_params_[\"dtree__min_samples_leaf\"]\n",
    "dtree_best_criterion = dtree_grid.best_params_[\"dtree__criterion\"]\n",
    "\n",
    "print('Decision Tree Best Max Depth ==> ' + str(dtree_best_max_depth))\n",
    "print('Decision Tree Best Min Samples Leaf ==> ' + str(dtree_best_min_samples_leaf))\n",
    "print('Decision Tree Best Criterion ==> ' + str(dtree_best_criterion))\n",
    "\n",
    "\n"
   ]
  },
  {
   "cell_type": "code",
   "execution_count": 180,
   "metadata": {},
   "outputs": [
    {
     "name": "stdout",
     "output_type": "stream",
     "text": [
      "SVM Best C ==> 0.1\n"
     ]
    }
   ],
   "source": [
    "# Tune SVM\n",
    "svcpipe_grid = ''\n",
    "svc_grid = ''\n",
    "svc_best_c = ''\n",
    "\n",
    "svcpipe_grid = Pipeline([('transform', transformer),\n",
    "                    ('selector', extractor),\n",
    "                    ('svc', SVC())])\n",
    "params = {'svc__C': [0.1, 1]}\n",
    "svc_grid = GridSearchCV(svcpipe_grid, param_grid=params)\n",
    "svc_grid.fit(X_train, y_train)\n",
    "\n",
    "# best parameters\n",
    "svc_best_c = svc_grid.best_params_[\"svc__C\"]\n",
    "\n",
    "print('SVM Best C ==> ' + str(svc_best_c))\n"
   ]
  },
  {
   "cell_type": "code",
   "execution_count": 181,
   "metadata": {},
   "outputs": [
    {
     "name": "stdout",
     "output_type": "stream",
     "text": [
      "[Pipeline] ....... (step 1 of 3) Processing transformer, total=   0.1s\n",
      "[Pipeline] .......... (step 2 of 3) Processing selector, total=   1.3s\n",
      "[Pipeline] ............... (step 3 of 3) Processing lgr, total=   0.1s\n",
      "LGR Train Time (sec) ==> 1.5231797695159912\n",
      "LGR Train Score ==> 0.8994852869767893\n",
      "LGR Test Score ==> 0.8952121977274935\n"
     ]
    }
   ],
   "source": [
    "# Use Optimized Hyperparameters on each model\n",
    "\n",
    "# Using Logistic Regression with best parameters\n",
    "lgr_pipe = ''\n",
    "lgr_pipe_trainscore = ''\n",
    "lgr_pipe_testscore = ''\n",
    "\n",
    "lgr_pipe = Pipeline([('transformer', transformer),\n",
    "                    ('selector', extractor),\n",
    "                    ('lgr', LogisticRegression(C=lgr_best_c, solver=lgr_best_solver))], verbose=True)\n",
    "\n",
    "start_time = time.time()\n",
    "lgr_pipe.fit(X_train, y_train)\n",
    "lgr_time = time.time() - start_time\n",
    "\n",
    "print('LGR Train Time (sec) ==> ' + str(lgr_time))\n",
    "\n",
    "# LGR train score\n",
    "lgr_pipe_trainscore = lgr_pipe.score(X_train, y_train)\n",
    "\n",
    "print('LGR Train Score ==> ' + str(lgr_pipe_trainscore))\n",
    "\n",
    "# LGR test score\n",
    "lgr_pipe_testscore = lgr_pipe.score(X_test, y_test)\n",
    "\n",
    "print('LGR Test Score ==> ' + str(lgr_pipe_testscore))"
   ]
  },
  {
   "cell_type": "code",
   "execution_count": 182,
   "metadata": {},
   "outputs": [
    {
     "name": "stdout",
     "output_type": "stream",
     "text": [
      "[Pipeline] ......... (step 1 of 3) Processing transform, total=   0.1s\n",
      "[Pipeline] .......... (step 2 of 3) Processing selector, total=   1.3s\n",
      "[Pipeline] ............... (step 3 of 3) Processing knn, total=   0.0s\n",
      "KNN Train Time (sec) ==> 1.4647595882415771\n",
      "KNN Train Score ==> 0.9249619630313036\n",
      "KNN Test Score ==> 0.8825871613091192\n"
     ]
    }
   ],
   "source": [
    "# Using KNN with best parameters\n",
    "knnpipe = ''\n",
    "knnpipe_trainscore = ''\n",
    "knnpipe_testscore = ''\n",
    "\n",
    "knnpipe = Pipeline([('transform', transformer),\n",
    "                    ('selector', extractor),\n",
    "                    ('knn', KNeighborsClassifier(n_neighbors=knn_best_n_neighbors, weights=knn_best_weights))], verbose=True)\n",
    "\n",
    "start_time = time.time()\n",
    "knnpipe.fit(X_train, y_train)\n",
    "knn_time = time.time() - start_time\n",
    "\n",
    "print('KNN Train Time (sec) ==> ' + str(knn_time))\n",
    "\n",
    "knnpipe_trainscore = knnpipe.score(X_train, y_train)\n",
    "print('KNN Train Score ==> ' + str(knnpipe_trainscore))\n",
    "\n",
    "knnpipe_testscore = knnpipe.score(X_test, y_test)\n",
    "print('KNN Test Score ==> ' + str(knnpipe_testscore))"
   ]
  },
  {
   "cell_type": "code",
   "execution_count": 183,
   "metadata": {},
   "outputs": [
    {
     "name": "stdout",
     "output_type": "stream",
     "text": [
      "[Pipeline] ......... (step 1 of 3) Processing transform, total=   0.1s\n",
      "[Pipeline] .......... (step 2 of 3) Processing selector, total=   1.1s\n",
      "[Pipeline] ............. (step 3 of 3) Processing dtree, total=   0.0s\n",
      "Decision Tree Train Time (sec) ==> 1.244384765625\n",
      "Decision Tree Train Score ==> 0.8873458288821987\n",
      "Decision Tree Test Score ==> 0.8873458288821987\n"
     ]
    }
   ],
   "source": [
    "# Using Decision Tree with best parameters\n",
    "dtreepipe = ''\n",
    "dtree_trainscore = ''\n",
    "dtree_testscore = ''\n",
    "\n",
    "dtreepipe = Pipeline([('transform', transformer),\n",
    "                    ('selector', extractor),\n",
    "                    ('dtree', DecisionTreeClassifier(max_depth=dtree_best_max_depth, min_samples_leaf=dtree_best_min_samples_leaf, criterion=dtree_best_criterion))], verbose=True)\n",
    "start_time = time.time()\n",
    "dtreepipe.fit(X_train, y_train)\n",
    "dtree_time = time.time() - start_time\n",
    "\n",
    "print('Decision Tree Train Time (sec) ==> ' + str(dtree_time))\n",
    "\n",
    "dtree_trainscore = dtreepipe.score(X_train, y_train)\n",
    "print('Decision Tree Train Score ==> ' + str(dtree_trainscore))\n",
    "\n",
    "dtree_testscore = dtreepipe.score(X_test, y_test)\n",
    "print('Decision Tree Test Score ==> ' + str(dtree_testscore))"
   ]
  },
  {
   "cell_type": "code",
   "execution_count": 184,
   "metadata": {},
   "outputs": [
    {
     "name": "stdout",
     "output_type": "stream",
     "text": [
      "[Pipeline] ......... (step 1 of 3) Processing transform, total=   0.1s\n",
      "[Pipeline] .......... (step 2 of 3) Processing selector, total=   1.1s\n",
      "[Pipeline] ............... (step 3 of 3) Processing svc, total=  41.1s\n",
      "SVM Train Time ==> 42.32718205451965\n",
      "SVM Train Score ==> 0.9001650966300865\n",
      "SVM Test Score ==> 0.897154511022628\n"
     ]
    }
   ],
   "source": [
    "# Using SVM with best parameters\n",
    "svcpipe = ''\n",
    "svc_trainscore = ''\n",
    "svc_testscore = ''\n",
    "\n",
    "svcpipe = Pipeline([('transform', transformer),\n",
    "                    ('selector', extractor),\n",
    "                    ('svc', SVC(C=svc_best_c))], verbose=True)\n",
    "start_time = time.time()\n",
    "svcpipe.fit(X_train, y_train)\n",
    "svc_time = time.time() - start_time\n",
    "\n",
    "print('SVM Train Time ==> ' + str(svc_time))\n",
    "\n",
    "svc_trainscore = svcpipe.score(X_train, y_train)\n",
    "print('SVM Train Score ==> ' + str(svc_trainscore))\n",
    "\n",
    "svc_testscore = svcpipe.score(X_test, y_test)\n",
    "print('SVM Test Score ==> ' + str(svc_testscore))"
   ]
  },
  {
   "cell_type": "code",
   "execution_count": 185,
   "metadata": {},
   "outputs": [
    {
     "data": {
      "text/html": [
       "<div>\n",
       "<style scoped>\n",
       "    .dataframe tbody tr th:only-of-type {\n",
       "        vertical-align: middle;\n",
       "    }\n",
       "\n",
       "    .dataframe tbody tr th {\n",
       "        vertical-align: top;\n",
       "    }\n",
       "\n",
       "    .dataframe thead th {\n",
       "        text-align: right;\n",
       "    }\n",
       "</style>\n",
       "<table border=\"1\" class=\"dataframe\">\n",
       "  <thead>\n",
       "    <tr style=\"text-align: right;\">\n",
       "      <th></th>\n",
       "      <th>train score</th>\n",
       "      <th>test score</th>\n",
       "      <th>average fit time (sec)</th>\n",
       "    </tr>\n",
       "    <tr>\n",
       "      <th>model</th>\n",
       "      <th></th>\n",
       "      <th></th>\n",
       "      <th></th>\n",
       "    </tr>\n",
       "  </thead>\n",
       "  <tbody>\n",
       "    <tr>\n",
       "      <th>Logistic Regression</th>\n",
       "      <td>0.899485</td>\n",
       "      <td>0.895212</td>\n",
       "      <td>1.523180</td>\n",
       "    </tr>\n",
       "    <tr>\n",
       "      <th>KNN</th>\n",
       "      <td>0.924962</td>\n",
       "      <td>0.882587</td>\n",
       "      <td>1.464760</td>\n",
       "    </tr>\n",
       "    <tr>\n",
       "      <th>Decision Tree</th>\n",
       "      <td>0.887346</td>\n",
       "      <td>0.887346</td>\n",
       "      <td>1.244385</td>\n",
       "    </tr>\n",
       "    <tr>\n",
       "      <th>SVM</th>\n",
       "      <td>0.900165</td>\n",
       "      <td>0.897155</td>\n",
       "      <td>42.327182</td>\n",
       "    </tr>\n",
       "  </tbody>\n",
       "</table>\n",
       "</div>"
      ],
      "text/plain": [
       "                     train score  test score  average fit time (sec)\n",
       "model                                                               \n",
       "Logistic Regression     0.899485    0.895212                1.523180\n",
       "KNN                     0.924962    0.882587                1.464760\n",
       "Decision Tree           0.887346    0.887346                1.244385\n",
       "SVM                     0.900165    0.897155               42.327182"
      ]
     },
     "execution_count": 185,
     "metadata": {},
     "output_type": "execute_result"
    }
   ],
   "source": [
    "#Create df to compare performance of different models using best parameters\n",
    "results_df = ''\n",
    "\n",
    "res_dict = {'model': ['Logistic Regression', 'KNN', 'Decision Tree', 'SVM'],\n",
    "           'train score': [lgr_pipe_trainscore, knnpipe_trainscore, dtree_trainscore, svc_trainscore],\n",
    "           'test score': [lgr_pipe_testscore, knnpipe_testscore, dtree_testscore, svc_testscore],\n",
    "           'average fit time (sec)': [lgr_time, knn_time, dtree_time, svc_time]}\n",
    "results_df = pd.DataFrame(res_dict).set_index('model')\n",
    "\n",
    "results_df"
   ]
  },
  {
   "cell_type": "markdown",
   "metadata": {},
   "source": [
    "##### Questions"
   ]
  }
 ],
 "metadata": {
  "kernelspec": {
   "display_name": "Python 3",
   "language": "python",
   "name": "python3"
  },
  "language_info": {
   "codemirror_mode": {
    "name": "ipython",
    "version": 3
   },
   "file_extension": ".py",
   "mimetype": "text/x-python",
   "name": "python",
   "nbconvert_exporter": "python",
   "pygments_lexer": "ipython3",
   "version": "3.12.4"
  },
  "widgets": {
   "application/vnd.jupyter.widget-state+json": {
    "state": {},
    "version_major": 2,
    "version_minor": 0
   }
  }
 },
 "nbformat": 4,
 "nbformat_minor": 4
}
